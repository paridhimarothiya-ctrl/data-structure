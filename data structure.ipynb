{
 "cells": [
  {
   "cell_type": "raw",
   "id": "30a558e7-713d-4f86-9d57-19e3397bfeb4",
   "metadata": {},
   "source": [
    "                                             DATA TYPE AND STRUCTURE QUESTIONS\n",
    "1. WHAT ARE DATA STRUCTURES, AND WHY ARE THEY IMPORTANT?\n",
    "-> Data sturctures are ways of organising and storing data so that i can be acessed and manipulate. they are important because they amke it easier to manage,search and process data. for example like lists, dictonaries and sets in python data structures"
   ]
  },
  {
   "cell_type": "raw",
   "id": "09373461-66d6-4209-8c2b-02bf7e116f95",
   "metadata": {},
   "source": [
    "2. EXPLAIN THE DIFFERENCE BETWEEN MUABLE AND IMMUTABLE DATA TYPES WITH EXAMPLES?\n",
    "-> Mutable: Can be changed after creation. Example: lists → my_list = [1,2,3]; you can add or remove elements.\n",
    "\n",
    "Immutable: Cannot be changed once created. Example: strings → \"hello\" cannot be modified; instead, a new string is created if changed."
   ]
  },
  {
   "cell_type": "raw",
   "id": "ab14ef2c-b765-4489-ba59-02ad00fb6a3e",
   "metadata": {},
   "source": [
    "3. What are the main differences between lists and tuples in Python?\n",
    "-> List: Mutable, you can add, remove, or change elements. Example: [1, 2, 3].\n",
    "\n",
    "Tuple: Immutable, cannot be changed once created. Example: (1, 2, 3).\n",
    "Tuples are faster and safer for fixed data."
   ]
  },
  {
   "cell_type": "raw",
   "id": "989422a8-1930-49bf-aa57-1cfeb841b3ec",
   "metadata": {},
   "source": [
    "4. Describe how dictionaries store data.\n",
    "-> Dictionaries store data in key–value pairs. Each key must be unique, and it points to a value. Example:\n",
    "\n",
    "student = {\"name\": \"Paridhi\", \"age\": 20}\n",
    "Here, \"name\" is a key and \"Paridhi\" is its value."
   ]
  },
  {
   "cell_type": "raw",
   "id": "e5133cfc-05e2-435a-9d64-a415a95307e3",
   "metadata": {},
   "source": [
    "5. Why might you use a set instead of a list in Python?\n",
    "-> A set is used when you want unique items only and don’t care about order. Example:\n",
    "{1, 2, 2, 3} → automatically becomes {1, 2, 3}.\n",
    "They are also faster for checking if something exists"
   ]
  },
  {
   "cell_type": "raw",
   "id": "d4033e86-042e-471b-9fea-df91457a34d3",
   "metadata": {},
   "source": [
    "6. What is a string in Python, and how is it different from a list?\n",
    "-> A string is a sequence of characters, like \"hello\".\n",
    "A list is a sequence of items that can include numbers, strings, or even other lists.\n",
    "Strings are immutable, but lists are mutable."
   ]
  },
  {
   "cell_type": "raw",
   "id": "09d6dfde-60e8-4fcc-b469-30d881fa05c5",
   "metadata": {},
   "source": [
    "7. How do tuples ensure data integrity in Python?\n",
    "-> Tuples are immutable, which means once you create them, their values cannot be changed. This ensures that important data remains safe and cannot be accidentally modified in the program."
   ]
  },
  {
   "cell_type": "raw",
   "id": "3b5b7a3e-6b86-4fa2-b271-90d78c7f8d89",
   "metadata": {},
   "source": [
    "8. What is a hash table, and how does it relate to dictionaries in Python?\n",
    "-> A hash table is a data structure that stores data in key–value form and uses a hash function to quickly find the value for a given key. In Python, dictionaries are built using hash tables internally."
   ]
  },
  {
   "cell_type": "raw",
   "id": "e635f949-ea02-4d01-bcd7-676447d33ee9",
   "metadata": {},
   "source": [
    "9. Can lists contain different data types in Python?\n",
    "Yes, lists can contain different data types. \n",
    "for example:"
   ]
  },
  {
   "cell_type": "code",
   "execution_count": null,
   "id": "26bab0e9-435f-4461-a047-42029aa65e70",
   "metadata": {},
   "outputs": [],
   "source": [
    "#9 exmaple\n",
    "mixed = [1, \"hello\", 3.5, True]\n",
    "mixed        "
   ]
  },
  {
   "cell_type": "raw",
   "id": "de6b4b39-6248-4963-a82e-3954b7f0e60d",
   "metadata": {},
   "source": [
    "This is allowed because python are flexible "
   ]
  },
  {
   "cell_type": "raw",
   "id": "101390ee-bc97-460b-9e19-6d11ba9ca1fc",
   "metadata": {},
   "source": [
    "10. Explain why strings are immutable in Python.\n",
    "-> Strings are immutable because once created, their value cannot change. This design makes strings more secure, efficient, and reliable when used in programs."
   ]
  },
  {
   "cell_type": "raw",
   "id": "15a6f8c3-79ec-4c56-86b8-decd0ecf9992",
   "metadata": {},
   "source": [
    "11.. What advantages do dictionaries offer over lists for certain tasks?\n",
    "-> Dictionaries allow fast lookups using keys instead of searching through the whole list. They are better when you need to connect a unique label (key) to a value, like mapping student names to their marks."
   ]
  },
  {
   "cell_type": "raw",
   "id": "21365dc6-1078-42d0-8a2d-fb99eb772795",
   "metadata": {},
   "source": [
    "12. Describe a scenario where using a tuple would be preferable over a list.\n",
    "-> If you want to store fixed information that should not change, a tuple is better. Example: employee id(12365, 22345, 66890) since those values shouldn’t be modified accidentally."
   ]
  },
  {
   "cell_type": "raw",
   "id": "a0ea6b31-8196-49d9-ace6-92e98f22f26d",
   "metadata": {},
   "source": [
    "13. How do sets handle duplicate values in Python?\n",
    "-> Sets automatically remove duplicates. If you add the same value multiple times, it will only keep one copy. Example:"
   ]
  },
  {
   "cell_type": "code",
   "execution_count": null,
   "id": "fa5386bb-5dcf-4c9c-88a7-64e08185154b",
   "metadata": {},
   "outputs": [],
   "source": [
    "#13 example\n",
    "sets = {1, 2, 2, 3, 4, 4, 5}\n",
    "sets"
   ]
  },
  {
   "cell_type": "raw",
   "id": "670fd68f-e6dc-4d25-b2c1-b162424338dc",
   "metadata": {},
   "source": [
    "14. How does the “in” keyword work differently for lists and dictionaries?\n",
    "-> In a list, \"in\" checks if an element is present in the sequence.\n",
    "but In a dictionary, \"in\" checks only the keys, not the values. Example:"
   ]
  },
  {
   "cell_type": "code",
   "execution_count": 7,
   "id": "f887906e-7703-4a35-b45f-d10448c1ab1d",
   "metadata": {},
   "outputs": [
    {
     "name": "stdout",
     "output_type": "stream",
     "text": [
      "True\n"
     ]
    }
   ],
   "source": [
    "#14example\n",
    "fruits = [\"apple\", \"mango\", \"banana\", \"orange\"]\n",
    "print(\"apple\" in fruits)"
   ]
  },
  {
   "cell_type": "code",
   "execution_count": 10,
   "id": "013bf6e5-785b-4bf5-9aa0-633bbe093d8b",
   "metadata": {},
   "outputs": [
    {
     "name": "stdout",
     "output_type": "stream",
     "text": [
      "True\n"
     ]
    }
   ],
   "source": [
    "intro = {\"name\" : \"paridhi\", \"age\" : 20}\n",
    "print(\"name\" in intro)"
   ]
  },
  {
   "cell_type": "code",
   "execution_count": 11,
   "id": "809d605a-9eb8-4ff8-b17a-9cba9b13ae59",
   "metadata": {},
   "outputs": [
    {
     "name": "stdout",
     "output_type": "stream",
     "text": [
      "False\n"
     ]
    }
   ],
   "source": [
    "intro = {\"name\" : \"paridhi\", \"age\" : 20}\n",
    "print(\"paridhi\" in intro)"
   ]
  },
  {
   "cell_type": "raw",
   "id": "fc012a64-e29d-4c4b-8a15-e7b73ddead37",
   "metadata": {},
   "source": [
    "15. Can you modify the elements of a tuple? Explain why or why not.\n",
    "-> No, you cannot modify a tuple because it is immutable. Once created, the elements are fixed, which helps keep the data safe and unchanged example : employee id"
   ]
  },
  {
   "cell_type": "raw",
   "id": "cf913d80-385a-44d6-9059-6c09cc49d105",
   "metadata": {},
   "source": [
    "16. What is a nested dictionary, and give an example of its use case.\n",
    "-> A nested dictionary means having a dictionary inside another dictionary. Example:"
   ]
  },
  {
   "cell_type": "code",
   "execution_count": null,
   "id": "9c023b5a-2f16-4749-a8ff-9c797358df2e",
   "metadata": {},
   "outputs": [],
   "source": [
    "students = {\n",
    "  \"101\": {\"name\": \"Pari\", \"age\": 20},\n",
    "  \"102\": {\"name\": \"Raj\", \"age\": 22}\n",
    "} \n",
    "#this is useful for storinng structured data like records."
   ]
  },
  {
   "cell_type": "raw",
   "id": "45fe940d-2b74-4dcb-a429-90e36eb46d63",
   "metadata": {},
   "source": [
    "17. Describe the time complexity of accessing elements in a dictionary.\n",
    "-> Accessing elements in a dictionary is on average O(1), meaning it takes constant time regardless of size, because it uses a hash table internally."
   ]
  },
  {
   "cell_type": "raw",
   "id": "18cea8dc-3e7d-4871-b689-7a79def5d7a7",
   "metadata": {},
   "source": [
    "18. In what situations are lists preferred over dictionaries?\n",
    "-> Lists are better when you just need an ordered collection of items and don’t need unique keys. For example, storing a shopping list or numbers in sequence"
   ]
  },
  {
   "cell_type": "raw",
   "id": "4d85ee9f-16e4-4610-8721-86f71da4a603",
   "metadata": {},
   "source": [
    "19. Why are dictionaries considered unordered, and how does that affect data retrieval?\n",
    "-> Dictionaries don’t store elements by position like lists; they store them by hash of keys. That means you can’t rely on the order of items (though in Python 3.7+, insertion order is preserved, but logically they are still key-based). Retrieval is always by key, not index."
   ]
  },
  {
   "cell_type": "raw",
   "id": "05b68065-c6aa-49ee-b415-46290aa94b94",
   "metadata": {},
   "source": [
    "20. Explain the difference between a list and a dictionary in terms of data retrieval.\n",
    "-> List: Retrieve items by index → my_list[0] gives first element.\n",
    " Dictionary: Retrieve items by key → my_dict[\"name\"] gives value linked to \"name"
   ]
  },
  {
   "cell_type": "code",
   "execution_count": null,
   "id": "a6774f39-e57e-4bd1-a428-6f8ca027ae3a",
   "metadata": {},
   "outputs": [],
   "source": [
    "                                              PRACTICAL QUESTIONS"
   ]
  },
  {
   "cell_type": "code",
   "execution_count": 17,
   "id": "b709301d-ea85-4145-9df8-17ac54fc0ddc",
   "metadata": {},
   "outputs": [
    {
     "data": {
      "text/plain": [
       "'paridhi'"
      ]
     },
     "execution_count": 17,
     "metadata": {},
     "output_type": "execute_result"
    }
   ],
   "source": [
    "#1. write a code to create a string with your name and print it\n",
    "name = 'paridhi'\n",
    "name"
   ]
  },
  {
   "cell_type": "code",
   "execution_count": 18,
   "id": "2dbee0e3-7a2b-495c-a5ac-a49db406fba2",
   "metadata": {},
   "outputs": [
    {
     "data": {
      "text/plain": [
       "11"
      ]
     },
     "execution_count": 18,
     "metadata": {},
     "output_type": "execute_result"
    }
   ],
   "source": [
    "#2. write a code to find the length of the string 'hello world'\n",
    "str = 'hello world'\n",
    "len(str)"
   ]
  },
  {
   "cell_type": "code",
   "execution_count": 19,
   "id": "3baf2d42-f0d3-434d-abb0-2ea5897b16c5",
   "metadata": {},
   "outputs": [
    {
     "name": "stdout",
     "output_type": "stream",
     "text": [
      "pyt\n"
     ]
    }
   ],
   "source": [
    "#3.write a code to slice the first three characters from the string 'python programming'\n",
    "text = 'python programming'\n",
    "print(text[:3])"
   ]
  },
  {
   "cell_type": "code",
   "execution_count": 20,
   "id": "935c256c-06db-484e-9298-223ce40f1bd0",
   "metadata": {},
   "outputs": [
    {
     "name": "stdout",
     "output_type": "stream",
     "text": [
      "HELLO\n"
     ]
    }
   ],
   "source": [
    "#4.write a code to convert the string 'hello' to uppercase\n",
    "text = 'hello'\n",
    "print(text.upper())"
   ]
  },
  {
   "cell_type": "code",
   "execution_count": 21,
   "id": "8c32f093-00a3-4834-8c80-9cb4a0cc4984",
   "metadata": {},
   "outputs": [
    {
     "name": "stdout",
     "output_type": "stream",
     "text": [
      "i like orange\n"
     ]
    }
   ],
   "source": [
    "#5.write a code to replace the word apple with orange in the string i like apple\n",
    "str = \"i like apple\"\n",
    "print(str.replace(\"apple\", \"orange\"))"
   ]
  },
  {
   "cell_type": "code",
   "execution_count": 22,
   "id": "3f4b902a-7c6f-4321-af27-88a38afa17f9",
   "metadata": {},
   "outputs": [
    {
     "data": {
      "text/plain": [
       "[1, 2, 3, 4, 5]"
      ]
     },
     "execution_count": 22,
     "metadata": {},
     "output_type": "execute_result"
    }
   ],
   "source": [
    "#6.write a code to create a list with numbers 1 to 5 and print it\n",
    "list = [1, 2, 3, 4, 5]\n",
    "list"
   ]
  },
  {
   "cell_type": "code",
   "execution_count": 3,
   "id": "8c564b3a-2546-47f3-8b60-c1ae42907ed2",
   "metadata": {},
   "outputs": [
    {
     "name": "stdout",
     "output_type": "stream",
     "text": [
      "[1, 2, 3, 4, 5, 10]\n"
     ]
    }
   ],
   "source": [
    "#7.write a code to append the number 10 to the list\n",
    "number = [1, 2, 3, 4, 5]\n",
    "number.append(10)\n",
    "print(number)"
   ]
  },
  {
   "cell_type": "code",
   "execution_count": 6,
   "id": "c8081d94-0942-438e-ab1b-d2d67849a246",
   "metadata": {},
   "outputs": [
    {
     "name": "stdout",
     "output_type": "stream",
     "text": [
      "[1, 2, 4, 5]\n"
     ]
    }
   ],
   "source": [
    "#8.write a code to remove the number from the list[1,2,3,4,5]\n",
    "num = [1, 2, 3, 4, 5,]\n",
    "num.remove(3)\n",
    "print(num)"
   ]
  },
  {
   "cell_type": "code",
   "execution_count": 7,
   "id": "2d6833b0-e19e-413f-a5d0-ae2a92962c28",
   "metadata": {},
   "outputs": [
    {
     "data": {
      "text/plain": [
       "'b'"
      ]
     },
     "execution_count": 7,
     "metadata": {},
     "output_type": "execute_result"
    }
   ],
   "source": [
    "#9.write a code to access the second elemnet inn the list[['a','b','c','d']\n",
    "list = [\"a\", \"b\", \"c\" , \"d\"]\n",
    "list[1]"
   ]
  },
  {
   "cell_type": "code",
   "execution_count": 9,
   "id": "f7cd831c-f138-4df1-b2d1-8275574f280f",
   "metadata": {},
   "outputs": [
    {
     "name": "stdout",
     "output_type": "stream",
     "text": [
      "[50, 40, 30, 20, 10]\n"
     ]
    }
   ],
   "source": [
    "#10. write a code to reverse the list[10,20,30,40,50]\n",
    "list = [10,20,30,40,50]\n",
    "list.reverse()\n",
    "print(list)"
   ]
  },
  {
   "cell_type": "code",
   "execution_count": 10,
   "id": "77ac397a-5804-43c2-8249-01f292c51caf",
   "metadata": {},
   "outputs": [
    {
     "data": {
      "text/plain": [
       "(100, 200, 300)"
      ]
     },
     "execution_count": 10,
     "metadata": {},
     "output_type": "execute_result"
    }
   ],
   "source": [
    "#11. writa a code to create a tuple with the elemnets 100,200,300 and print it\n",
    "tuple = (100, 200 , 300)\n",
    "tuple"
   ]
  },
  {
   "cell_type": "code",
   "execution_count": 12,
   "id": "fe8a6604-a2d9-4e31-9817-f4341a08c830",
   "metadata": {},
   "outputs": [
    {
     "name": "stdout",
     "output_type": "stream",
     "text": [
      "blue\n"
     ]
    }
   ],
   "source": [
    "#12. write a code to access the second to last elemnt of the tuple(\"red\", \"green\", \"blue\", \"yellow\")\n",
    "colors = (\"red\", \"green\", \"blue\", \"yellow\")\n",
    "print(colors[-2])"
   ]
  },
  {
   "cell_type": "code",
   "execution_count": 15,
   "id": "3ecec00b-ccb8-4044-a983-b2e3c5c09387",
   "metadata": {},
   "outputs": [
    {
     "name": "stdout",
     "output_type": "stream",
     "text": [
      "5\n"
     ]
    }
   ],
   "source": [
    "#13. write a code to finnd the minimum number in the tuple(10,20,5,15)\n",
    "num = (10, 20, 5, 15)\n",
    "print(min(num))"
   ]
  },
  {
   "cell_type": "code",
   "execution_count": 18,
   "id": "a8a73d15-6160-4512-8d5a-15ebcd2f604a",
   "metadata": {},
   "outputs": [
    {
     "name": "stdout",
     "output_type": "stream",
     "text": [
      "1\n"
     ]
    }
   ],
   "source": [
    "#14 find the index of the element \"cat\" in the tuple (\"dog\", \"cat\" , \"rabbit\")\n",
    "animals = (\"dog\" , \"cat\" , \"rabbit\")\n",
    "print(animals.index(\"cat\"))"
   ]
  },
  {
   "cell_type": "code",
   "execution_count": 20,
   "id": "66132b70-f3b8-4ea5-a760-77b1b867cc23",
   "metadata": {},
   "outputs": [
    {
     "name": "stdout",
     "output_type": "stream",
     "text": [
      "True\n"
     ]
    }
   ],
   "source": [
    "#15 write a code to create tuple containing three different fruits and check if \"kiwi\" is in it.\n",
    "fruits = (\"apple\", \"mango\" , \"kiwi\")\n",
    "print(\"kiwi\" in fruits)"
   ]
  },
  {
   "cell_type": "code",
   "execution_count": 21,
   "id": "24abbd21-6e4c-4c1a-91d3-0d1ec1e3286f",
   "metadata": {},
   "outputs": [
    {
     "data": {
      "text/plain": [
       "{'a', 'b', 'c'}"
      ]
     },
     "execution_count": 21,
     "metadata": {},
     "output_type": "execute_result"
    }
   ],
   "source": [
    "#16.create a set with the elements \"a\", \"b\", \"c\" and print it\n",
    "set = {\"a\" , \"b\" , \"c\"}\n",
    "set"
   ]
  },
  {
   "cell_type": "code",
   "execution_count": 22,
   "id": "a8c467a2-6ee5-4cfc-847e-a771e70c8494",
   "metadata": {},
   "outputs": [
    {
     "name": "stdout",
     "output_type": "stream",
     "text": [
      "set()\n"
     ]
    }
   ],
   "source": [
    "#17. clear all the elements from the set{1,2,3,4,5}\n",
    "set = {1,2,3,4,5}\n",
    "set.clear()\n",
    "print(set)"
   ]
  },
  {
   "cell_type": "code",
   "execution_count": 23,
   "id": "49c8272b-7b1a-4c74-a297-9e53c08098aa",
   "metadata": {},
   "outputs": [
    {
     "name": "stdout",
     "output_type": "stream",
     "text": [
      "{1, 2, 3}\n"
     ]
    }
   ],
   "source": [
    "#18. remove the element 4 from  the set {1,2,3,4}\n",
    "set = {1,2,3,4}\n",
    "set.remove(4)\n",
    "print(set)"
   ]
  },
  {
   "cell_type": "code",
   "execution_count": 24,
   "id": "87343cf6-e6dd-4cdc-b714-0c80fa644d5c",
   "metadata": {},
   "outputs": [
    {
     "name": "stdout",
     "output_type": "stream",
     "text": [
      "{1, 2, 3, 4, 5}\n"
     ]
    }
   ],
   "source": [
    "#19. find the union of two sets{1,2,3} and {3,4,5}\n",
    "set1 = {1,2,3}\n",
    "set2 = {3,4,5}\n",
    "print(set1.union(set2))"
   ]
  },
  {
   "cell_type": "code",
   "execution_count": 25,
   "id": "35355499-20ac-4da9-becd-08eb83136748",
   "metadata": {},
   "outputs": [
    {
     "name": "stdout",
     "output_type": "stream",
     "text": [
      "{2, 3}\n"
     ]
    }
   ],
   "source": [
    "#20 find the intersection of two sets {1,2,3} and {2,3,4}\n",
    "set1 = {1,2,3}\n",
    "set2 = {2,3,4}\n",
    "print(set1.intersection(set2))"
   ]
  },
  {
   "cell_type": "code",
   "execution_count": 26,
   "id": "3e45d849-edf5-4ab9-8009-ece44da648da",
   "metadata": {},
   "outputs": [
    {
     "name": "stdout",
     "output_type": "stream",
     "text": [
      "{'name': 'Paridhi', 'age': 20, 'city': 'ratlam'}\n"
     ]
    }
   ],
   "source": [
    "#21.write acode to create a dictionary with the keys \"name\", \"age\" ,and \"city\" and print it\n",
    "person = {\n",
    "    \"name\": \"Paridhi\",\n",
    "    \"age\": 20,\n",
    "    \"city\": \"ratlam\"\n",
    "}\n",
    "print(person)"
   ]
  },
  {
   "cell_type": "code",
   "execution_count": 27,
   "id": "60a2c042-fa04-4f03-a904-d9a571609a11",
   "metadata": {},
   "outputs": [
    {
     "name": "stdout",
     "output_type": "stream",
     "text": [
      "20\n"
     ]
    }
   ],
   "source": [
    "#22.Write a code to access the value of the key \"age\" from the dictionary.\n",
    "person = {\"name\": \"Pari\", \"age\": 20, \"city\": \"Delhi\"}\n",
    "print(person[\"age\"])  "
   ]
  },
  {
   "cell_type": "code",
   "execution_count": 28,
   "id": "f092cd36-3172-4e96-b478-edad3d1225d9",
   "metadata": {},
   "outputs": [
    {
     "name": "stdout",
     "output_type": "stream",
     "text": [
      "{'name': 'Paridhi', 'age': 20, 'city': 'Mumbai'}\n"
     ]
    }
   ],
   "source": [
    "#23.write a code to change the city to mumbai in the dictionary\n",
    "person = {\"name\": \"Paridhi\", \"age\": 20, \"city\": \"ratlam\"}\n",
    "person[\"city\"] = \"Mumbai\"\n",
    "print(person)"
   ]
  },
  {
   "cell_type": "code",
   "execution_count": 29,
   "id": "44560eaa-eb06-4590-bb90-066a80dc6936",
   "metadata": {},
   "outputs": [
    {
     "name": "stdout",
     "output_type": "stream",
     "text": [
      "{'name': 'Paridhi', 'age': 20, 'city': 'ratlam', 'country': 'India'}\n"
     ]
    }
   ],
   "source": [
    "#24.write a code to add a new key \"country\" with the value \"india\" to the dictionary\n",
    "person = {\"name\": \"Paridhi\", \"age\": 20, \"city\": \"ratlam\"}\n",
    "person[\"country\"] = \"India\"\n",
    "print(person)"
   ]
  },
  {
   "cell_type": "code",
   "execution_count": 30,
   "id": "63c51b91-b250-423c-b63e-781515ed9725",
   "metadata": {},
   "outputs": [
    {
     "name": "stdout",
     "output_type": "stream",
     "text": [
      "{'name': 'Paridhi', 'city': 'ratlam'}\n"
     ]
    }
   ],
   "source": [
    "#25. writa a code to remove the key \"age\" from the dictionary\n",
    "person = {\"name\": \"Paridhi\", \"age\": 20, \"city\": \"ratlam\"}\n",
    "person.pop(\"age\")\n",
    "print(person)"
   ]
  },
  {
   "cell_type": "code",
   "execution_count": 31,
   "id": "08773783-2824-4409-bbd7-28d1f870cb9b",
   "metadata": {},
   "outputs": [
    {
     "name": "stdout",
     "output_type": "stream",
     "text": [
      "dict_keys(['name', 'age', 'city'])\n"
     ]
    }
   ],
   "source": [
    "#26. write a code to get all the keys from a dictionary\n",
    "person = {\"name\": \"Paridhi\", \"age\": 20, \"city\": \"ratlam\"}\n",
    "print(person.keys())"
   ]
  },
  {
   "cell_type": "code",
   "execution_count": 32,
   "id": "500f13c5-9a1e-413b-ad2e-1e1d7f0d5996",
   "metadata": {},
   "outputs": [
    {
     "name": "stdout",
     "output_type": "stream",
     "text": [
      "dict_values(['Paridhi', 20, 'ratlam'])\n"
     ]
    }
   ],
   "source": [
    "#27. write a code to get all the values from a dictionary\n",
    "person = {\"name\": \"Paridhi\", \"age\": 20, \"city\": \"ratlam\"}\n",
    "print(person.values())"
   ]
  },
  {
   "cell_type": "code",
   "execution_count": 33,
   "id": "9921ff83-15dc-4a3e-a07b-13b84ed8540c",
   "metadata": {},
   "outputs": [
    {
     "name": "stdout",
     "output_type": "stream",
     "text": [
      "True\n"
     ]
    }
   ],
   "source": [
    "#28. write a code to check if the key \"name\" exists in the dictionary.\n",
    "person = {\"name\": \"Paridhi\", \"age\": 20, \"city\": \"ratlam\"}\n",
    "print(\"name\" in person)   "
   ]
  },
  {
   "cell_type": "code",
   "execution_count": 35,
   "id": "6921f2dc-276d-4a53-b441-b0ff32d30ce9",
   "metadata": {},
   "outputs": [
    {
     "name": "stdout",
     "output_type": "stream",
     "text": [
      "name : Paridhi\n",
      "age : 20\n",
      "city : ratlam\n"
     ]
    }
   ],
   "source": [
    "#29.write a code to loop through the dictionary and print all the keys and values\n",
    "person = {\"name\": \"Paridhi\", \"age\": 20, \"city\": \"ratlam\"}\n",
    "for key, value in person.items():\n",
    "    print(key, \":\", value)"
   ]
  },
  {
   "cell_type": "code",
   "execution_count": 36,
   "id": "19c5b17a-48a5-4915-bba4-cc7137f4eb11",
   "metadata": {},
   "outputs": [
    {
     "name": "stdout",
     "output_type": "stream",
     "text": [
      "{'101': {'name': 'Paridhi', 'age': 20}, '102': {'name': 'Raj', 'age': 22}}\n"
     ]
    }
   ],
   "source": [
    "#30. write a code to create a nested dictionary for two students with thier name and age.\n",
    "students = {\n",
    "    \"101\": {\"name\": \"Paridhi\", \"age\": 20},\n",
    "    \"102\": {\"name\": \"Raj\", \"age\": 22}\n",
    "}\n",
    "print(students)"
   ]
  },
  {
   "cell_type": "code",
   "execution_count": null,
   "id": "fe175e98-29b5-4a82-88c0-95c8c58a673d",
   "metadata": {},
   "outputs": [],
   "source": []
  }
 ],
 "metadata": {
  "kernelspec": {
   "display_name": "Python 3 (ipykernel)",
   "language": "python",
   "name": "python3"
  },
  "language_info": {
   "codemirror_mode": {
    "name": "ipython",
    "version": 3
   },
   "file_extension": ".py",
   "mimetype": "text/x-python",
   "name": "python",
   "nbconvert_exporter": "python",
   "pygments_lexer": "ipython3",
   "version": "3.12.7"
  }
 },
 "nbformat": 4,
 "nbformat_minor": 5
}
